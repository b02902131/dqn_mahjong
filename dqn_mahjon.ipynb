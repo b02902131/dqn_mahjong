{
 "cells": [
  {
   "cell_type": "code",
   "execution_count": 3,
   "metadata": {
    "collapsed": true
   },
   "outputs": [],
   "source": [
    "from __future__ import print_function\n",
    "from __future__ import division\n",
    "import matplotlib.pyplot as plt\n",
    "from matplotlib import style\n",
    "import numpy as np\n",
    "import pandas as pd\n",
    "import seaborn as sns\n",
    "\n",
    "style.use('ggplot')\n",
    "%matplotlib inline"
   ]
  },
  {
   "cell_type": "code",
   "execution_count": 4,
   "metadata": {
    "collapsed": true
   },
   "outputs": [],
   "source": [
    "try:\n",
    "    import gym\n",
    "except:\n",
    "    !pip install gym\n",
    "    import gym\n",
    "    \n",
    "isFast = True"
   ]
  },
  {
   "cell_type": "code",
   "execution_count": 5,
   "metadata": {
    "collapsed": true
   },
   "outputs": [],
   "source": [
    "import numpy\n",
    "import math \n",
    "import os \n",
    "import random\n",
    "\n",
    "import cntk as C"
   ]
  },
  {
   "cell_type": "code",
   "execution_count": 6,
   "metadata": {
    "collapsed": true
   },
   "outputs": [],
   "source": [
    "# Select the right target device when this notebook is being tested:\n",
    "if 'TEST_DEVICE' in os.environ:\n",
    "    if os.environ['TEST_DEVICE'] == 'cpu':\n",
    "        C.device.try_set_default_device(C.device.cpu())\n",
    "    else:\n",
    "        C.device.try_set_default_device(C.device.gpu(0))"
   ]
  },
  {
   "cell_type": "code",
   "execution_count": 7,
   "metadata": {
    "collapsed": false
   },
   "outputs": [
    {
     "name": "stderr",
     "output_type": "stream",
     "text": [
      "[2017-07-19 17:47:51,560] Making new env: CartPole-v0\n"
     ]
    },
    {
     "data": {
      "text/plain": [
       "(4, 2)"
      ]
     },
     "execution_count": 7,
     "metadata": {},
     "output_type": "execute_result"
    }
   ],
   "source": [
    "## environment and setting\n",
    "\n",
    "STATE_COUNT = 1\n",
    "ACTION_COUNT = 4\n",
    "\n",
    "# change these config later\n",
    "\n",
    "# class Environment:\n",
    "# \n",
    "\n",
    "env = gym.make('CartPole-v0')\n",
    "\n",
    "STATE_COUNT  = env.observation_space.shape[0]\n",
    "ACTION_COUNT = env.action_space.n\n",
    "\n",
    "STATE_COUNT, ACTION_COUNT"
   ]
  },
  {
   "cell_type": "code",
   "execution_count": 27,
   "metadata": {
    "collapsed": false
   },
   "outputs": [
    {
     "name": "stdout",
     "output_type": "stream",
     "text": [
      "[1, 2, 3, 4, 5, 6]\n",
      "[-1, -1, -1, -1, -1, -1, -1, -1, -1, -1, -1, -1, -1, -1, -1, -1, -1, -1, -1, -1, -1, -1, -1, -1, -1, -1, -1, -1, -1, -1, -1, -1, -1, -1, -1, -1, -1, -1, -1, -1, -1, -1, -1, -1, -1, -1, -1, -1, -1, -1, -1, -1, -1, -1, -1, -1, -1, -1, -1, -1, -1, -1, -1, -1]\n",
      "[2]\n"
     ]
    }
   ],
   "source": [
    "a = [1,2,3]\n",
    "b = [4,5,6]\n",
    "c = a+b\n",
    "print(c)\n",
    "\n",
    "t = [-1] * 64\n",
    "print(t)\n",
    "\n",
    "print (a[1:2])"
   ]
  },
  {
   "cell_type": "code",
   "execution_count": 41,
   "metadata": {
    "collapsed": false
   },
   "outputs": [
    {
     "name": "stdout",
     "output_type": "stream",
     "text": [
      "Deck: \n",
      " ['M3', 'M2', 'L8', 'L6', 'C6', 'L9', 'L7', 'L2', 'C3', 'C7', 'C4', 'L2', 'M7', 'L7', 'M9', 'C8', 'C9', 'C2', 'M8', 'L7', 'C3', 'L1', 'RC', 'M8', 'NW', 'L8', 'EW', 'L4', 'EW', 'M4', 'M3', 'RC', 'L5', 'C5', 'GF', 'M6', 'SW', 'C4', 'NW', 'L2', 'M2', 'L1', 'L9', 'L8', 'M4', 'M5', 'C6', 'M1', 'C1', 'C4', 'M3', 'M6', 'L6', 'M5', 'C4', 'L4', 'L1', 'M2', 'WW', 'M4', 'M7', 'NW', 'C9', 'C3', 'WB', 'M2', 'C5', 'C8', 'EW', 'M1', 'C9', 'M9', 'C6', 'L4', 'C3', 'C2', 'C9', 'L6', 'M5', 'C7']\n",
      "Table: \n",
      " []\n",
      "P0 : ['M1', 'M1', 'M2', 'M6', 'M7', 'M7', 'C5', 'C6', 'C7', 'C8', 'L2', 'L5', 'EW', 'SW', 'SW', 'GF'] \n",
      "\t []\n",
      "P1 : ['M1', 'M5', 'M5', 'M6', 'M9', 'C1', 'C1', 'C2', 'C5', 'L3', 'L6', 'L7', 'L8', 'L9', 'GF', 'WB'] \n",
      "\t []\n",
      "P2 : ['M3', 'M4', 'M7', 'M8', 'M8', 'C7', 'C8', 'L3', 'L3', 'L4', 'L5', 'WW', 'WW', 'NW', 'RC', 'WB'] \n",
      "\t []\n",
      "P3 : ['M3', 'M4', 'M6', 'M8', 'M9', 'C1', 'C2', 'L1', 'L3', 'L5', 'L9', 'WW', 'SW', 'RC', 'GF', 'WB'] \n",
      "\t []\n",
      "make state =  [0, 2, 2, 1, 0, 0, 0, 1, 2, 0, 0, 0, 0, 0, 0, 1, 1, 1, 1, 0, 0, 1, 0, 0, 1, 0, 0, 0, 0, 1, 0, 2, 0, 0, 1, 0, 0, 0, 0, 0, 0, 0, 0, 0, 0, 0, 0, 0, 0, 0, 0, 0, 0, 0, 0, 0, 0, 0, 0, 0, 0, 0, 0, 0, 0, 0, 0, 0, 0, 0, 0, 0, 0, 0, 0, 0, 0, 0, 0, 0, 0, 0, 0, 0, 0, 0, 0, 0, 0, 0, 0, 0, 0, 0, 0, 0, 0, 0, 0, 0, 0, 0, 0, 0, 0, 0, 0, 0, 0, 0, 0, 0] , len = 112\n",
      "P0 do act 30.\n",
      "play SW\n",
      "Deck: \n",
      " ['L8', 'L6', 'C6', 'L9', 'L7', 'L2', 'C3', 'C7', 'C4', 'L2', 'M7', 'L7', 'M9', 'C8', 'C9', 'C2', 'M8', 'L7', 'C3', 'L1', 'RC', 'M8', 'NW', 'L8', 'EW', 'L4', 'EW', 'M4', 'M3', 'RC', 'L5', 'C5', 'GF', 'M6', 'SW', 'C4', 'NW', 'L2', 'M2', 'L1', 'L9', 'L8', 'M4', 'M5', 'C6', 'M1', 'C1', 'C4', 'M3', 'M6', 'L6', 'M5', 'C4', 'L4', 'L1', 'M2', 'WW', 'M4', 'M7', 'NW', 'C9', 'C3', 'WB', 'M2', 'C5', 'C8', 'EW', 'M1', 'C9', 'M9', 'C6', 'L4', 'C3', 'C2', 'C9', 'L6', 'M5', 'C7']\n",
      "Table: \n",
      " []\n",
      "P0 : ['M1', 'M1', 'M2', 'M6', 'M7', 'M7', 'C5', 'C6', 'C7', 'C8', 'L2', 'L5', 'EW', 'SW', 'SW', 'GF'] \n",
      "\t []\n",
      "P1 : ['M1', 'M5', 'M5', 'M6', 'M9', 'C1', 'C1', 'C2', 'C5', 'L3', 'L6', 'L7', 'L8', 'L9', 'GF', 'WB'] \n",
      "\t []\n",
      "P2 : ['M3', 'M4', 'M7', 'M8', 'M8', 'C7', 'C8', 'L3', 'L3', 'L4', 'L5', 'WW', 'WW', 'NW', 'RC', 'WB'] \n",
      "\t []\n",
      "P3 : ['M3', 'M4', 'M6', 'M8', 'M9', 'C1', 'C2', 'L1', 'L3', 'L5', 'L9', 'WW', 'SW', 'RC', 'GF', 'WB'] \n",
      "\t []\n"
     ]
    }
   ],
   "source": [
    "# M1~M9, C1~C9, L1~L9, EW,WW,SW,NW, R,G,W, F1~8\n",
    "# 36,    72,    108    136, \n",
    "# action = win + play(34) + eat(3) + pon + gan(34) + pass\n",
    "    # eat0 = eat downward, ex: eat 5 with 67\n",
    "    # eat1 = eat middle,   ex: eat 5 with 46\n",
    "    # eat2 = eat upward    ex: eat 5 with 34\n",
    "\n",
    "# Feature_From = [0,1,2], 0=self, 1=prevPlayer, 2=from other players\n",
    "TABLE_STATE_SIZE = 34      # 34 types of card and their quentities (no flowers)\n",
    "# TABLE_STATE_SIZE = 64    # beacause there is at most 64 card on the table\n",
    "HAND_STATE_SIZE = 34\n",
    "OPEN_STATE_SIZE = 42       # 42 = all types including flowers\n",
    "\n",
    "# state = from + in_card + hand + open + (table)\n",
    "STATE_COUNT = 1 + 1 + HAND_STATE_SIZE + OPEN_STATE_SIZE + TABLE_STATE_SIZE\n",
    "ACTION_COUNT = 1 + 34 + 3 + 1 + 34 + 1\n",
    "\n",
    "class Environment:\n",
    "    def __init__(self):\n",
    "        self.cardSet = CardSet()\n",
    "        self.players = []\n",
    "        self.cards = []\n",
    "        self.cards_open = []\n",
    "        self.table = []\n",
    "        self.s = []\n",
    "        self.s_ = []\n",
    "        self.cur_player_idx = 0\n",
    "        \n",
    "        self.reset()\n",
    "    \n",
    "    def reset(self):\n",
    "        # self.table \n",
    "        self.table = []\n",
    "        \n",
    "        # reset 4 player's hand card\n",
    "        self.players = []\n",
    "        self.cards = []\n",
    "        self.cards_open = []\n",
    "        for i in range(4):\n",
    "            self.players.append(Agent())\n",
    "            self.cards.append([])\n",
    "            self.cards_open.append([])\n",
    "            \n",
    "        # reset card deck\n",
    "        self.cardSet.reset()\n",
    "        \n",
    "        # deal cards\n",
    "        for i in range(16):\n",
    "            for j in range(4):\n",
    "                self.cards[j].append(self.cardSet.draw())\n",
    "        \n",
    "        # sorted\n",
    "        for i in range(4):\n",
    "            self.cards[i].sort()\n",
    "            \n",
    "        # reset pool\n",
    "        self.pool = []\n",
    "    \n",
    "    def render(self):\n",
    "        print(\"Deck: \\n\",cardSet2Str(self.cardSet.cards))\n",
    "        print(\"Table: \\n\", cardSet2Str(self.table))\n",
    "        for i in range(4):\n",
    "            print(\"P%d\"%(i), \":\", cardSet2Str(self.cards[i]), \"\\n\\t\", cardSet2Str(self.cards_open[i]))\n",
    "    \n",
    "    def run(self):\n",
    "        idx = self.cur_player_idx\n",
    "        \n",
    "        # 1. Draw and act by idx\n",
    "        card = self.cardSet.draw()\n",
    "        # make state for player\n",
    "        s[idx] = self.makeState(idx, card)\n",
    "        # cur index player act respond with this s\n",
    "        a[idx] = self.players[idx].act(s , self.makeLegalList(idx,0,0))\n",
    "        print(\"P%d do act %d.\"%(idx,a[idx]))\n",
    "        \n",
    "        self.step(idx, card, a[idx])\n",
    "        # 2. idx play one card, other player react\n",
    "        \n",
    "        # 3. switch to next player\n",
    "        \n",
    "        # return observation, reward, done, info\n",
    "        pass\n",
    "\n",
    "    def makeLegalList(self, idx, frm=0, canWin=0):\n",
    "        legal_win = [0]\n",
    "        legal_play = [0]*34\n",
    "        legal_eat = [0]*3\n",
    "        legal_pon = [0]\n",
    "        legal_gan = [0]*34\n",
    "        legal_pass = [1]\n",
    "        if canWin:\n",
    "            legal_win = [1]\n",
    "        if frm == 0: \n",
    "            for val in self.cards[idx]:\n",
    "                legal_play[val] = 1\n",
    "        if frm == 1:\n",
    "            # check eat\n",
    "            # check pon\n",
    "            pass\n",
    "        if frm == 2:\n",
    "            # check pon\n",
    "            # check gan\n",
    "            pass\n",
    "            \n",
    "        # action = win + play(34) + eat(3) + pon + gan(34) + pass\n",
    "        legal_action_list = legal_win + legal_play + legal_eat + legal_pon + legal_gan + legal_pass\n",
    "        return legal_action_list\n",
    "        \n",
    "    \n",
    "    def step(self, idx, card, action): \n",
    "        # action = win + play(34) + eat(3) + pon + gan(34)\n",
    "            # eat0 = eat downward, ex: eat 5 with 67\n",
    "            # eat1 = eat middle,   ex: eat 5 with 46\n",
    "            # eat2 = eat upward    ex: eat 5 with 34\n",
    "        if action < 0:\n",
    "            # error\n",
    "            print(\"Error, action should >= 0\")\n",
    "            return\n",
    "        if action == 0:\n",
    "            # win check\n",
    "            print(\"win\")\n",
    "            return\n",
    "        if action <= 34:\n",
    "            # play card with responding index\n",
    "            print(\"play\", cardID2Str(action-1))\n",
    "            return\n",
    "        if action <= 37:\n",
    "            new_action = action - 34\n",
    "            # 3 type of eat\n",
    "            print(\"eat\")\n",
    "            return\n",
    "        if action == 38:\n",
    "            # pon\n",
    "            print(\"pon\")\n",
    "            return\n",
    "        if action <= 72:\n",
    "            new_action = action - 38\n",
    "            # gan with responding index\n",
    "            print(\"gan\")\n",
    "            return\n",
    "        if action == 73:\n",
    "            # pass the card (if you're curplaying player, you can/cannot pass, bigyo is still comtemplate)\n",
    "            print(\"pass\")\n",
    "            return\n",
    "    \n",
    "    def makeState(self, idx, card, featureFrom=0):\n",
    "        # state = from + in_card + hand + open + (table)\n",
    "        hand = self.encodeCards(self.cards[idx])\n",
    "        cards_open = self.encodeCards(self.cards_open[idx], 42)  # cards which are opened\n",
    "        table = self.encodeCards(self.table)\n",
    "        \n",
    "        state = [featureFrom] + [card] + hand + cards_open + table \n",
    "        if not len(state) == STATE_COUNT:\n",
    "            print(\"ERROR: state len wrong !! len(state) = %d, STATE_COUNT = %d\"%(len(state), STATE_COUNT))\n",
    "        \n",
    "        return state\n",
    "    \n",
    "    def encodeCards(self, cards, num=34):\n",
    "        enc = [0] * num\n",
    "        for card in cards:\n",
    "            enc[card] += 1\n",
    "        return enc\n",
    "        \n",
    "\n",
    "env = Environment()\n",
    "    \n",
    "env.render()\n",
    "\n",
    "s =  env.makeState(0, env.cardSet.draw())\n",
    "print(\"make state = \", s, \", len = %d\"%(len(s)))\n",
    "\n",
    "env.run()\n",
    "\n",
    "env.render()"
   ]
  },
  {
   "cell_type": "code",
   "execution_count": 16,
   "metadata": {
    "collapsed": false
   },
   "outputs": [],
   "source": [
    "class CardSet:\n",
    "    def __init__(self):\n",
    "        self.cards = []\n",
    "        self.reset()\n",
    "        \n",
    "    def reset(self):\n",
    "        self.cards = []\n",
    "        for i in range(144):\n",
    "            self.cards.append( self.cardIDcompress(i) )\n",
    "        self.shuffle() \n",
    "        \n",
    "    def cardIDcompress(self, idx):\n",
    "        if idx < 0:\n",
    "            print (\"id should be larger than or equal to 0\")\n",
    "        if idx < 136:\n",
    "            return int(idx/4)\n",
    "        elif idx < 144:\n",
    "            return int(idx-136)\n",
    "        else:\n",
    "            print (\"id should be less than 144\")\n",
    "        return -1 # error\n",
    "    \n",
    "    def draw(self, direction=\"front\"):\n",
    "        if self.canDraw() == False:\n",
    "            print(\"can't draw anymore\")\n",
    "            return -1\n",
    "            \n",
    "        if direction == \"front\":    \n",
    "            card = self.cards[0]\n",
    "            self.cards = self.cards[1:]\n",
    "        elif direction == \"back\":\n",
    "            card = self.cards[len(self.cards)-1]\n",
    "            self.cards = self.cards[:-1]\n",
    "        else:\n",
    "            print(\"direction should be (front) or (back)\")\n",
    "            return -1\n",
    "            \n",
    "        return card\n",
    "    \n",
    "    def canDraw(self):\n",
    "        if self.cardRemain() <= 0:\n",
    "            return False\n",
    "        return True\n",
    "    \n",
    "    def cardRemain(self):\n",
    "        return len(self.cards)\n",
    "    \n",
    "    def shuffle(self):\n",
    "        cardN = self.cardRemain()\n",
    "        for i in range(cardN):\n",
    "            idx = random.randint(i, cardN-1)\n",
    "            temp = self.cards[i]\n",
    "            self.cards[i] = self.cards[idx]\n",
    "            self.cards[idx] = temp"
   ]
  },
  {
   "cell_type": "code",
   "execution_count": 17,
   "metadata": {
    "collapsed": false
   },
   "outputs": [
    {
     "name": "stdout",
     "output_type": "stream",
     "text": [
      "['M1', 'M2', 'M3', 'M4', 'M5', 'M6', 'M7', 'M8', 'M9', 'C1', 'C2', 'C3', 'C4', 'C5', 'C6', 'C7']\n"
     ]
    }
   ],
   "source": [
    "# M1~M9, C1~C9, L1~L9, EW,WW,SW,NW, R,G,W, F1~8\n",
    "# 9,    18,    27    24, \n",
    "\n",
    "def cardID2Str(idx):\n",
    "    if idx < 0:\n",
    "        print (\"id should be larger than or equal to 0\")\n",
    "    if idx < 27:\n",
    "        card_num = int(idx%9) + 1\n",
    "        card_type = int(idx/9)\n",
    "        card_type_list = [\"M\", \"C\", \"L\"]\n",
    "        return card_type_list[card_type] + str(card_num)\n",
    "    elif idx < 34:\n",
    "        card_type = int(idx-27)\n",
    "        card_type_list = [\"EW\",\"WW\",\"SW\",\"NW\", \"RC\",\"GF\",\"WB\"]\n",
    "        return card_type_list[card_type]\n",
    "    elif idx < 42:\n",
    "        card_num = int((idx-34))+1\n",
    "        return \"F\"+ str(card_num)\n",
    "        pass\n",
    "    else:\n",
    "        print (\"id should be less than 144\")\n",
    "        \n",
    "    return -1\n",
    "\n",
    "def cardSet2Str(cards):\n",
    "    cards_str = []\n",
    "    for i in range(len(cards)):\n",
    "        cards_str.append(cardID2Str(cards[i]))\n",
    "    return cards_str\n",
    "\n",
    "cards = [0,1,2,3,4,5,6,7,8,9,10,11,12,13,14,15]\n",
    "print(cardSet2Str(cards))"
   ]
  },
  {
   "cell_type": "code",
   "execution_count": 18,
   "metadata": {
    "collapsed": false
   },
   "outputs": [],
   "source": [
    "\n",
    "H = 64 # hidden layer size\n",
    "\n",
    "class Brain:\n",
    "    def __init__(self):\n",
    "        self.params = {}\n",
    "        self.model, self.trainer, self.loss = self._create()\n",
    "        \n",
    "    def _create(self):\n",
    "        observation = C.sequence.input_variable(STATE_COUNT, np.float32, name=\"s\")\n",
    "        q_target = C.sequence.input_variable(ACTION_COUNT, np.float32, name=\"q\")\n",
    "        \n",
    "        # Following a style similar to Keras\n",
    "        l1 = C.layers.Dense(H, activation=C.relu)\n",
    "        l2 = C.layers.Dense(ACTION_COUNT)\n",
    "        unbound_model = C.layers.Sequential([l1,l2])\n",
    "        model = unbound_model(observation)\n",
    "        \n",
    "        self.params = dict(W1=l1.W, b1=l1.b, W2=l2.W, b2=l2.b)\n",
    "        \n",
    "        # loss = 'mse'\n",
    "        loss = C.reduce_mean(C.square(model - q_target), axis=0)\n",
    "        meas = C.reduce_mean(C.square(model - q_target), axis=0)\n",
    "        \n",
    "        # optimizer\n",
    "        lr = 0.00025\n",
    "        lr_schedule = C.learning_rate_schedule(lr, C.UnitType.minibatch)\n",
    "        learner = C.sgd(model.parameters, lr_schedule, gradient_clipping_threshold_per_sample=10)\n",
    "        trainer = C.Trainer(model,(loss,meas),learner)\n",
    "        \n",
    "        # CNTK: return trainer and loss as well\n",
    "        return model, trainer, loss\n",
    "\n",
    "    def train(self, x, y, epoch=1, verbose=0):\n",
    "        arguments = dict(zip(self.loss.arguments, [x,y]))\n",
    "        updated, results = self.trainer.train_minibatch(arguments, outputs = [self.loss.output])\n",
    "        \n",
    "    def predict(self, s):\n",
    "        return self.model.eval([s])\n"
   ]
  },
  {
   "cell_type": "code",
   "execution_count": 19,
   "metadata": {
    "collapsed": true
   },
   "outputs": [],
   "source": [
    "class Memory:  # stored as (s, a, r, s_ )\n",
    "    samples = []\n",
    "    \n",
    "    def __init__(self, capacity):\n",
    "        self.capacity = capacity\n",
    "        \n",
    "    def add(self, sample):\n",
    "        self.samples.append(sample)\n",
    "        \n",
    "        if len(self.samples) > self.capacity:\n",
    "            self.samples.pop(0)\n",
    "            \n",
    "    def sample(self, n):\n",
    "        n = min(n, len(self.samples))\n",
    "        return random.sample(self.samples, n)"
   ]
  },
  {
   "cell_type": "code",
   "execution_count": 13,
   "metadata": {
    "collapsed": false
   },
   "outputs": [],
   "source": [
    "MEMORY_CAPACITY = 100000\n",
    "BATCH_SIZE = 64\n",
    "\n",
    "GAMMA = 0.99 # discount factor\n",
    "\n",
    "MAX_EPSILON = 1\n",
    "MIN_EPSILON = 0.01 # stay a bit curious even when getting old\n",
    "LAMBDA = 0.0001    # speed of decay \n",
    "\n",
    "class Agent:\n",
    "    steps = 0\n",
    "    epsilon = MAX_EPSILON\n",
    "    \n",
    "    def __init__(self):\n",
    "        self.brain = Brain()\n",
    "        self.memory = Memory(MEMORY_CAPACITY)\n",
    "        \n",
    "    def act(self, s, legal_action=[1]*ACTION_COUNT):\n",
    "        if random.random() < self.epsilon:\n",
    "            legal_index_list = []\n",
    "            for index, value in enumerate(legal_action):\n",
    "                if value == 1:\n",
    "                    legal_index_list.append(index)\n",
    "            return random.choice(legal_index_list)\n",
    "        else:\n",
    "            # return numpy.argmax(self.brain.predict(s))\n",
    "            return numpy.argmax( np.array(self.brain.predict(s)) * np.array(legal_action) )\n",
    "        \n",
    "    def observe(self, sample): # in (s, a, r, s_) format\n",
    "        self.memory.add(sample)\n",
    "        \n",
    "        # slowly decrease Epsilon based on our experience\n",
    "        self.steps += 1\n",
    "        self.epsilon = MIN_EPSILON + (MAX_EPSILON - MIN_EPSILON) * math.exp(-LAMBDA * self.steps)\n",
    "        \n",
    "    def replay(self):\n",
    "        batch = self.memory.sample(BATCH_SIZE)\n",
    "        batchLen = len(batch)\n",
    "        \n",
    "        no_state = numpy.zeros(STATE_COUNT)\n",
    "        \n",
    "        # CNTK: explicity setting to float32\n",
    "        states = numpy.array([ o[0] for o in batch ], dtype = np.float32)\n",
    "        states_ = numpy.array([(no_state if o[3] is None else o[3]) for o in batch ] , dtype = np.float32)\n",
    "        \n",
    "        p = agent.brain.predict(states)\n",
    "        p_ = agent.brain.predict(states_)\n",
    "        \n",
    "        # CNTK: explicitly setting to float32\n",
    "        x = numpy.zeros((batchLen, STATE_COUNT)).astype(np.float32)\n",
    "        y = numpy.zeros((batchLen, ACTION_COUNT)).astype(np.float32)\n",
    "        \n",
    "        for i in range(batchLen):\n",
    "            s, a, r, s_ = batch[i]\n",
    "            \n",
    "            # CNTK:[0] beacuse of sequence dimension\n",
    "            t = p[0][i]\n",
    "            if s_ is None:\n",
    "                t[a] = r\n",
    "            else:\n",
    "                t[a] = r + GAMMA * numpy.amax(p_[0][i])\n",
    "                \n",
    "            x[i] = s\n",
    "            y[i] = t\n",
    "        \n",
    "        self.brain.train(x,y)"
   ]
  },
  {
   "cell_type": "code",
   "execution_count": 17,
   "metadata": {
    "collapsed": true
   },
   "outputs": [],
   "source": [
    "def plot_weights(weights, figsize=(7,5)):\n",
    "    '''Heat map of weights to see which neurons play which role'''\n",
    "    sns.set(style=\"white\")\n",
    "    f, ax = plt.subplots(len(weights), figsize=figsize)\n",
    "    cmap = sns.diverging_palette(220, 10, as_cmap=True)\n",
    "    \n",
    "    for i, data in enumerate(weights):\n",
    "        axi = ax if len(weights)==1 else ax[i]\n",
    "        if isinstance(data, tuple):\n",
    "            w, title = data\n",
    "            axi.set_title(title)\n",
    "        else:\n",
    "            w = data\n",
    "                \n",
    "        sns.heatmap(w.asarray(), cmap=cmap, square=True, center=True, #annot=True,\n",
    "                    linewidths=.5, cbar_kws={\"shrink\": .25}, ax=axi)"
   ]
  },
  {
   "cell_type": "code",
   "execution_count": 13,
   "metadata": {
    "collapsed": false
   },
   "outputs": [
    {
     "name": "stdout",
     "output_type": "stream",
     "text": [
      "Episode: 20, Average reward for episode 23.550000.\n",
      "Episode: 40, Average reward for episode 21.850000.\n",
      "Episode: 60, Average reward for episode 21.600000.\n",
      "Episode: 80, Average reward for episode 16.250000.\n",
      "Episode: 100, Average reward for episode 19.000000.\n",
      "Episode: 120, Average reward for episode 14.300000.\n",
      "Episode: 140, Average reward for episode 16.550000.\n",
      "Episode: 160, Average reward for episode 14.800000.\n",
      "Episode: 180, Average reward for episode 14.400000.\n",
      "Episode: 200, Average reward for episode 17.000000.\n",
      "Episode: 220, Average reward for episode 18.200000.\n",
      "Episode: 240, Average reward for episode 14.550000.\n",
      "Episode: 260, Average reward for episode 14.500000.\n",
      "Episode: 280, Average reward for episode 13.200000.\n",
      "Episode: 300, Average reward for episode 13.050000.\n",
      "Episode: 320, Average reward for episode 13.350000.\n",
      "Episode: 340, Average reward for episode 15.350000.\n",
      "Episode: 360, Average reward for episode 14.450000.\n",
      "Episode: 380, Average reward for episode 13.750000.\n",
      "Episode: 400, Average reward for episode 12.600000.\n",
      "Episode: 420, Average reward for episode 13.350000.\n",
      "Episode: 440, Average reward for episode 14.200000.\n",
      "Episode: 460, Average reward for episode 15.750000.\n",
      "Episode: 480, Average reward for episode 13.600000.\n",
      "Episode: 500, Average reward for episode 13.750000.\n",
      "Episode: 520, Average reward for episode 11.300000.\n",
      "Episode: 540, Average reward for episode 12.600000.\n",
      "Episode: 560, Average reward for episode 12.950000.\n",
      "Episode: 580, Average reward for episode 13.800000.\n",
      "Episode: 600, Average reward for episode 12.300000.\n",
      "Episode: 620, Average reward for episode 12.150000.\n",
      "Episode: 640, Average reward for episode 13.550000.\n",
      "Episode: 660, Average reward for episode 12.300000.\n",
      "Episode: 680, Average reward for episode 11.550000.\n",
      "Episode: 700, Average reward for episode 12.300000.\n",
      "Episode: 720, Average reward for episode 11.550000.\n",
      "Episode: 740, Average reward for episode 12.800000.\n",
      "Episode: 760, Average reward for episode 11.200000.\n",
      "Episode: 780, Average reward for episode 11.450000.\n",
      "Episode: 800, Average reward for episode 11.650000.\n",
      "Episode: 820, Average reward for episode 12.400000.\n",
      "Episode: 840, Average reward for episode 11.300000.\n",
      "Episode: 860, Average reward for episode 12.400000.\n",
      "Episode: 880, Average reward for episode 11.600000.\n",
      "Episode: 900, Average reward for episode 12.700000.\n",
      "Episode: 920, Average reward for episode 13.550000.\n",
      "Episode: 940, Average reward for episode 14.000000.\n",
      "Episode: 960, Average reward for episode 14.700000.\n",
      "Episode: 980, Average reward for episode 15.250000.\n",
      "Episode: 1000, Average reward for episode 15.750000.\n",
      "Episode: 1020, Average reward for episode 20.100000.\n",
      "Episode: 1040, Average reward for episode 21.800000.\n",
      "Episode: 1060, Average reward for episode 25.250000.\n",
      "Episode: 1080, Average reward for episode 24.450000.\n",
      "Episode: 1100, Average reward for episode 10.650000.\n",
      "Episode: 1120, Average reward for episode 11.050000.\n",
      "Episode: 1140, Average reward for episode 10.350000.\n",
      "Episode: 1160, Average reward for episode 10.800000.\n",
      "Episode: 1180, Average reward for episode 11.650000.\n",
      "Episode: 1200, Average reward for episode 20.650000.\n",
      "Episode: 1220, Average reward for episode 53.250000.\n",
      "Task solved in 1220 episodes\n"
     ]
    },
    {
     "data": {
      "image/png": "[encoded data removed]",
      "text/plain": [
       "<matplotlib.figure.Figure at 0x2208abf0e80>"
      ]
     },
     "metadata": {},
     "output_type": "display_data"
    },
    {
     "data": {
      "image/png": "[encoded data removed]",
      "text/plain": [
       "<matplotlib.figure.Figure at 0x22085b37908>"
      ]
     },
     "metadata": {},
     "output_type": "display_data"
    },
    {
     "data": {
      "image/png": "[encoded data removed]",
      "text/plain": [
       "<matplotlib.figure.Figure at 0x2209039bfd0>"
      ]
     },
     "metadata": {},
     "output_type": "display_data"
    },
    {
     "data": {
      "image/png": "[encoded data removed]",
      "text/plain": [
       "<matplotlib.figure.Figure at 0x2208feca1d0>"
      ]
     },
     "metadata": {},
     "output_type": "display_data"
    },
    {
     "data": {
      "image/png": "[encoded data removed]",
      "text/plain": [
       "<matplotlib.figure.Figure at 0x22090dec908>"
      ]
     },
     "metadata": {},
     "output_type": "display_data"
    },
    {
     "data": {
      "image/png": "[encoded data removed]",
      "text/plain": [
       "<matplotlib.figure.Figure at 0x22090890358>"
      ]
     },
     "metadata": {},
     "output_type": "display_data"
    },
    {
     "data": {
      "image/png": "[encoded data removed]",
      "text/plain": [
       "<matplotlib.figure.Figure at 0x2208fedc080>"
      ]
     },
     "metadata": {},
     "output_type": "display_data"
    }
   ],
   "source": [
    "REWARD_TARGET = 30 if isFast else 200\n",
    "BATCH_SIZE_BASELINE = 20 if isFast else 50\n",
    "\n",
    "TOTAL_EPISODES = 2000 if isFast else 3000\n",
    "\n",
    "def run(agent):\n",
    "    s = env.reset()\n",
    "    R = 0\n",
    "\n",
    "    while True:\n",
    "        # Uncomment the line below to visualize the cartpole\n",
    "#         env.render()\n",
    "\n",
    "        # CNTK: explicitly setting to float32\n",
    "        a = agent.act(s.astype(np.float32))\n",
    "\n",
    "        s_, r, done, info = env.step(a)\n",
    "\n",
    "        if done: # terminal state\n",
    "            s_ = None\n",
    "\n",
    "        agent.observe((s, a, r, s_))\n",
    "        agent.replay()\n",
    "\n",
    "        s = s_\n",
    "        R += r\n",
    "\n",
    "        if done:\n",
    "            return R\n",
    "\n",
    "agent = Agent()\n",
    "\n",
    "episode_number = 0\n",
    "reward_sum = 0\n",
    "while episode_number < TOTAL_EPISODES:\n",
    "    reward_sum += run(agent)\n",
    "    episode_number += 1\n",
    "    if episode_number % BATCH_SIZE_BASELINE == 0:\n",
    "        print('Episode: %d, Average reward for episode %f.' % (episode_number,\n",
    "                                                               reward_sum / BATCH_SIZE_BASELINE))\n",
    "        if episode_number%200==0:\n",
    "            plot_weights([(agent.brain.params['W1'], 'Episode %i $W_1$'%episode_number)], figsize=(14,5))\n",
    "        if reward_sum / BATCH_SIZE_BASELINE > REWARD_TARGET:\n",
    "            print('Task solved in %d episodes' % episode_number)\n",
    "            plot_weights([(agent.brain.params['W1'], 'Episode %i $W_1$'%episode_number)], figsize=(14,5))\n",
    "            break\n",
    "        reward_sum = 0\n",
    "agent.brain.model.save('dqn.mod')"
   ]
  },
  {
   "cell_type": "code",
   "execution_count": 14,
   "metadata": {
    "collapsed": false
   },
   "outputs": [],
   "source": [
    "# b = Brain()\n",
    "# b.model.load(\"dqn.mod\")\n",
    "# x = np.array([1,1,1,1], np.float32)\n",
    "# p = b.predict(x)\n",
    "# p\n",
    "\n",
    "# test load model"
   ]
  },
  {
   "cell_type": "code",
   "execution_count": 15,
   "metadata": {
    "collapsed": false
   },
   "outputs": [
    {
     "name": "stderr",
     "output_type": "stream",
     "text": [
      "[2017-07-19 11:52:21,696] Making new env: CartPole-v0\n"
     ]
    },
    {
     "name": "stdout",
     "output_type": "stream",
     "text": [
      "0\n",
      "1\n",
      "2\n",
      "3\n",
      "4\n",
      "5\n",
      "6\n",
      "7\n",
      "8\n",
      "9\n"
     ]
    }
   ],
   "source": [
    "env = gym.make('CartPole-v0')\n",
    "\n",
    "num_episodes = 10  # number of episodes to run\n",
    "\n",
    "modelPath = 'dqn.mod'\n",
    "root = C.load_model(modelPath)\n",
    "\n",
    "for i_episode in range(num_episodes):\n",
    "    print(i_episode)\n",
    "    observation = env.reset()  # reset environment for new episode\n",
    "    done = False\n",
    "    while not done: \n",
    "        if not 'TEST_DEVICE' in os.environ:\n",
    "#             env.render()\n",
    "        action = np.argmax(root.eval([observation.astype(np.float32)]))\n",
    "        observation, reward, done, info  = env.step(action) "
   ]
  },
  {
   "cell_type": "code",
   "execution_count": 11,
   "metadata": {
    "collapsed": false
   },
   "outputs": [
    {
     "name": "stdout",
     "output_type": "stream",
     "text": [
      "1 4\n",
      "1 4\n",
      "1 4\n",
      "1 4\n",
      "[<__main__.Agent object at 0x000001D3B5E547F0>, <__main__.Agent object at 0x000001D3B5E54D68>, <__main__.Agent object at 0x000001D3B5E54908>, <__main__.Agent object at 0x000001D3B5E54B70>]\n"
     ]
    }
   ],
   "source": [
    "# C1~C9, M1~M9, L1~L9, F1~8, EW,WW,SW,NW, R,G,W\n",
    "# state = in + hand + open + (table)\n",
    "# action = win + play(0~16) + eat(0~2) + pon + gan\n",
    "\n",
    "# legal_act(state) -> [bool(len(action))]\n",
    "\n",
    "player = []\n",
    "for i in range(4):\n",
    "    player.append(Agent())\n",
    "    \n",
    "print(player)"
   ]
  },
  {
   "cell_type": "code",
   "execution_count": null,
   "metadata": {
    "collapsed": true
   },
   "outputs": [],
   "source": []
  }
 ],
 "metadata": {
  "anaconda-cloud": {},
  "kernelspec": {
   "display_name": "Python [Root]",
   "language": "python",
   "name": "Python [Root]"
  },
  "language_info": {
   "codemirror_mode": {
    "name": "ipython",
    "version": 3
   },
   "file_extension": ".py",
   "mimetype": "text/x-python",
   "name": "python",
   "nbconvert_exporter": "python",
   "pygments_lexer": "ipython3",
   "version": "3.5.2"
  }
 },
 "nbformat": 4,
 "nbformat_minor": 0
}
